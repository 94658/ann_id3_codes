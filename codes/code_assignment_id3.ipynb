{
 "cells": [
  {
   "cell_type": "code",
   "execution_count": 193,
   "metadata": {},
   "outputs": [],
   "source": [
    "import math\n",
    "import pandas as pd\n",
    "import numpy as np\n",
    "from sklearn.metrics import confusion_matrix\n",
    "import networkx as nx\n",
    "import matplotlib.pyplot as plt\n",
    "import operator\n",
    "eps = np.finfo(float).eps  #the smallest  representable number to avoid log 0 or 0 in the denominator\n",
    "from networkx.drawing.nx_agraph import graphviz_layout\n",
    "G = nx.DiGraph()\n",
    "nodes=[]\n",
    "edges=[]\n",
    "leaf=[]"
   ]
  },
  {
   "cell_type": "code",
   "execution_count": 194,
   "metadata": {},
   "outputs": [],
   "source": [
    "#calculate entropy for the whole dataset using target attribute Fast\n",
    "def find_entropy(dframe):\n",
    "    Class = dframe.keys()[-1]\n",
    "    entropy=0\n",
    "    values = dframe[Class].unique() #get unique values no or yes\n",
    "    for value in values:\n",
    "        probability = dframe[Class].value_counts()[value]/len(dframe[Class])\n",
    "        entropy += -probability*np.log2(probability) \n",
    "    return entropy"
   ]
  },
  {
   "cell_type": "code",
   "execution_count": 195,
   "metadata": {},
   "outputs": [],
   "source": [
    "#return entropy for each attribute\n",
    "def find_entropy_for_attribute(dframe,attribute):\n",
    "    Class = dframe.keys()[-1] #the target output class\n",
    "    entropy=0\n",
    "    attr_list=list(dframe[attribute])\n",
    "    merged_class=list(zip(attr_list,list(dframe[Class])))\n",
    "    class_attr_list=set(merged_class)#get number of unique classes in attribute\n",
    "    all_classes= list(class_attr_list)\n",
    "    sub_entropy = 0\n",
    "    for x in all_classes:\n",
    "        probability = merged_class.count(x)/attr_list.count(x[0])\n",
    "        #print(attr_list.count(x[0]),len(attr_list),probability,math.log2(probability))\n",
    "                #entropy of child combinations\n",
    "        sub_entropy = probability*math.log2(probability)\n",
    "        entropy-=(attr_list.count(x[0])/len(attr_list))*(sub_entropy)\n",
    "    return abs(entropy)"
   ]
  },
  {
   "cell_type": "code",
   "execution_count": 206,
   "metadata": {},
   "outputs": [],
   "source": [
    "def find_max_ig(dframe):\n",
    "    IG = [] #list to hold information gain for the attributes\n",
    "    for key in dframe.keys()[:-1]:\n",
    "        IG.append(find_entropy(dframe) - find_entropy_for_attribute(dframe,key))\n",
    "    print(dframe.keys()[:-1][np.argmax(IG)])\n",
    "    return dframe.keys()[:-1][np.argmax(IG)] "
   ]
  },
  {
   "cell_type": "code",
   "execution_count": 207,
   "metadata": {},
   "outputs": [],
   "source": [
    "def get_subtable(dframe, node, value):#splitting into subtables according to node attribute and atrribute values\n",
    "    return dframe[dframe[node] == value].reset_index(drop=True)"
   ]
  },
  {
   "cell_type": "code",
   "execution_count": 224,
   "metadata": {},
   "outputs": [],
   "source": [
    "def buildTree(dframe,tree= None):\n",
    "    Class=dframe.keys()[-1] #target output fast\n",
    "    node = find_max_ig(dframe) #attribute with highest information gain\n",
    "    distinct_values = np.unique(dframe[node]) #distinct value of the attribute with the highest IG\n",
    "    #empty dictionary to create tree\n",
    "    if tree is None:\n",
    "        tree = {}\n",
    "        tree[node] = {}\n",
    "\n",
    "    #construct tree through a loop by recursive call of this function\n",
    "    #reducing dataset,splitting into branches\n",
    "    for value in distinct_values:\n",
    "        subtable= get_subtable(dframe,node,value)\n",
    "        print(subtable)\n",
    "        clValue,counts = np.unique(subtable['fast'],return_counts=True)\n",
    "        print(counts)\n",
    "        if len(counts)==1:#Checking purity of subset\n",
    "            tree[node][value] = clValue[0]  \n",
    "            \n",
    "    print(tree)\n",
    "#         else:        \n",
    "#             tree[node][value] = buildTree(subtable) #atCalling the function recursively \n",
    "                   \n",
    "    return tree"
   ]
  },
  {
   "cell_type": "code",
   "execution_count": 225,
   "metadata": {},
   "outputs": [],
   "source": [
    "data_headers=['engine','turbo','weight','fueleco','fast']\n",
    "data=pd.read_csv(\"id3_data.csv\",names=data_headers,header=None)\n"
   ]
  },
  {
   "cell_type": "code",
   "execution_count": 226,
   "metadata": {},
   "outputs": [
    {
     "name": "stdout",
     "output_type": "stream",
     "text": [
      "fueleco\n",
      "  engine turbo   weight  fueleco fast\n",
      "0  small    no    light  average   no\n",
      "1  small    no  average  average   no\n",
      "2  small   yes  average  average   no\n",
      "[3]\n",
      "   engine turbo   weight fueleco fast\n",
      "0   small   yes  average     bad  yes\n",
      "1  medium    no    heavy     bad  yes\n",
      "2   large   no   average     bad  yes\n",
      "3  medium    no    light     bad   no\n",
      "4   large   yes    heavy     bad   no\n",
      "5   large    no    heavy     bad   no\n",
      "6  medium   yes    light     bad  yes\n",
      "7   large    no  average     bad  yes\n",
      "8  medium    no    heavy     bad   no\n",
      "9  medium    no    heavy     bad   no\n",
      "[5 5]\n",
      "  engine turbo   weight fueleco fast\n",
      "0  small    no  average    good   no\n",
      "1  small    no    light    good   no\n",
      "[2]\n",
      "{'fueleco': {'average': 'no', 'good': 'no'}}\n",
      "{'fueleco': {'average': 'no', 'good': 'no'}}\n"
     ]
    }
   ],
   "source": [
    "tree= buildTree(data)\n",
    "import pprint\n",
    "pprint.pprint(tree)\n"
   ]
  },
  {
   "cell_type": "code",
   "execution_count": 173,
   "metadata": {},
   "outputs": [
    {
     "data": {
      "text/plain": [
       "['fueleco']"
      ]
     },
     "execution_count": 173,
     "metadata": {},
     "output_type": "execute_result"
    }
   ],
   "source": [
    "keys=list(tree.keys())\n",
    "keys"
   ]
  },
  {
   "cell_type": "code",
   "execution_count": 174,
   "metadata": {},
   "outputs": [],
   "source": [
    "def drawtree(tree):\n",
    "    set1 = set()\n",
    "    set2 = set()\n",
    "\n",
    "    for k,v in tree.items():\n",
    "        set1.add(k)\n",
    "        for key in v:\n",
    "            set2.add(key)\n",
    "            leaf=list(v.values())\n",
    "    nodes=list(set1)  \n",
    "    edges =list(set2)      \n",
    "    print(\"Nodes--> \"+' '.join(map(str, nodes)))\n",
    "    print(\"edges--> \"+','.join(map(str, edges)))\n",
    "    print(\"leaf--> \"+','.join(map(str, leaf)))    \n",
    "    # G.add_nodes_from(nodes)\n",
    "    # sorted(G.nodes(),key=str)\n",
    "    # edges_tuple= [(x,) for x in edges] #list comprehension \n",
    "#     print(leaf)\n",
    "\n",
    "    # G.add_nodes_from(nodes)\n",
    "    newlist= zip(nodes,leaf)\n",
    "    newlist\n",
    "    if (len(nodes)==1 and len(leaf)==2):\n",
    "        G.add_edge(nodes[0],leaf[0])\n",
    "        G.add_edge(nodes[0],leaf[1])\n",
    "    pos = nx.spring_layout(G)\n",
    "    nx.draw(G,pos,node_size=200,node_color='#68fd00');     \n"
   ]
  },
  {
   "cell_type": "code",
   "execution_count": 176,
   "metadata": {},
   "outputs": [
    {
     "name": "stdout",
     "output_type": "stream",
     "text": [
      "Nodes--> fueleco\n",
      "edges--> average,good\n",
      "leaf--> no,no\n"
     ]
    },
    {
     "name": "stderr",
     "output_type": "stream",
     "text": [
      "C:\\Users\\Richard Mbingi\\Anaconda3\\lib\\site-packages\\networkx\\drawing\\nx_pylab.py:563: MatplotlibDeprecationWarning: \n",
      "The iterable function was deprecated in Matplotlib 3.1 and will be removed in 3.3. Use np.iterable instead.\n",
      "  if not cb.iterable(width):\n",
      "C:\\Users\\Richard Mbingi\\Anaconda3\\lib\\site-packages\\networkx\\drawing\\nx_pylab.py:660: MatplotlibDeprecationWarning: \n",
      "The iterable function was deprecated in Matplotlib 3.1 and will be removed in 3.3. Use np.iterable instead.\n",
      "  if cb.iterable(node_size):  # many node sizes\n"
     ]
    },
    {
     "data": {
      "image/png": "[encoded data removed]",
      "text/plain": [
       "<Figure size 432x288 with 1 Axes>"
      ]
     },
     "metadata": {},
     "output_type": "display_data"
    }
   ],
   "source": [
    "drawtree(tree)"
   ]
  },
  {
   "cell_type": "code",
   "execution_count": 180,
   "metadata": {},
   "outputs": [],
   "source": [
    "def predict(inst,tree):\n",
    "    for nodes in tree.keys():        \n",
    "        \n",
    "        value = inst[nodes]\n",
    "        tree = tree[nodes][value]\n",
    "        prediction = 0\n",
    "            \n",
    "        if type(tree) is dict:\n",
    "            prediction = predict(inst, tree)\n",
    "        else:\n",
    "            prediction = tree\n",
    "            break;                            \n",
    "    return prediction"
   ]
  },
  {
   "cell_type": "code",
   "execution_count": 181,
   "metadata": {},
   "outputs": [],
   "source": [
    "inst = data.iloc[6]"
   ]
  },
  {
   "cell_type": "code",
   "execution_count": 183,
   "metadata": {},
   "outputs": [],
   "source": [
    "# prediction = predict(inst, tree)"
   ]
  },
  {
   "cell_type": "code",
   "execution_count": null,
   "metadata": {},
   "outputs": [],
   "source": []
  }
 ],
 "metadata": {
  "kernelspec": {
   "display_name": "Python 3",
   "language": "python",
   "name": "python3"
  },
  "language_info": {
   "codemirror_mode": {
    "name": "ipython",
    "version": 3
   },
   "file_extension": ".py",
   "mimetype": "text/x-python",
   "name": "python",
   "nbconvert_exporter": "python",
   "pygments_lexer": "ipython3",
   "version": "3.7.0"
  }
 },
 "nbformat": 4,
 "nbformat_minor": 2
}
